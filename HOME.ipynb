{
 "cells": [
  {
   "cell_type": "markdown",
   "id": "b8fd4e6f",
   "metadata": {},
   "source": [
    "# Right to Left"
   ]
  },
  {
   "cell_type": "markdown",
   "id": "8c077a84",
   "metadata": {},
   "source": [
    "Дана последовательность строк. Вы должны объединить эти строки в блок текста, разделив изначальные строки запятыми. В качестве шутки над праворукими роботами, вы должны заменить все вхождения слова \"right\" на слова \"left\", даже если это часть другого слова. Все строки даны в нижнем регистре."
   ]
  },
  {
   "cell_type": "code",
   "execution_count": 11,
   "id": "4cf4032a",
   "metadata": {},
   "outputs": [],
   "source": [
    "def left_join(phrases: tuple) -> str:\n",
    "    \"\"\"\n",
    "    Join strings and replace \"right\" to \"left\"\n",
    "    \"\"\"\n",
    "    return ','.join((x.replace('right', 'left') for x in phrases))"
   ]
  },
  {
   "cell_type": "code",
   "execution_count": 12,
   "id": "46b93746",
   "metadata": {},
   "outputs": [
    {
     "data": {
      "text/plain": [
       "'bleft aleft,ok'"
      ]
     },
     "execution_count": 12,
     "metadata": {},
     "output_type": "execute_result"
    }
   ],
   "source": [
    "left_join((\"bright aright\", \"ok\"))"
   ]
  },
  {
   "cell_type": "markdown",
   "id": "3d205782",
   "metadata": {},
   "source": [
    "# First Word\n",
    "\n",
    "Дана строка и нужно найти ее первое слово.\n",
    "\n",
    "При решении задачи обратите внимание на следующие моменты:\n",
    "\n",
    "В строке могут встречатся точки и запятые\n",
    "Строка может начинаться с буквы или, к примеру, с пробела или точки\n",
    "В слове может быть апостроф и он является частью слова\n",
    "Весь текст может быть представлен только одним словом и все"
   ]
  },
  {
   "cell_type": "code",
   "execution_count": 67,
   "id": "6f429ff8",
   "metadata": {},
   "outputs": [],
   "source": [
    "import re\n",
    "def first_word(text: str) -> str:\n",
    "    \"\"\"\n",
    "    returns the first word in a given text.\n",
    "    \"\"\"    \n",
    "    return re.findall(r'\\w[a-zA-Z]*\\'?\\w?', text)[0]"
   ]
  },
  {
   "cell_type": "code",
   "execution_count": 70,
   "id": "584b0df2",
   "metadata": {},
   "outputs": [
    {
     "data": {
      "text/plain": [
       "'and'"
      ]
     },
     "execution_count": 70,
     "metadata": {},
     "output_type": "execute_result"
    }
   ],
   "source": [
    "first_word(\"... and so on ...\") "
   ]
  },
  {
   "cell_type": "markdown",
   "id": "e3ecb710",
   "metadata": {},
   "source": [
    "# Days Between\n",
    "\n",
    "Сколько вам лет в днях? Это легко вычислить - достаточно вычесть свой день рождения от сегодняшнего дня. Мы имеем реальную задачу - посчитать разницу между любыми датами.\n",
    "\n",
    "У вас есть две даты в кортежах с тремя числами - год, месяц и день. Например, 19 апреля 1982 будет (1982, 4, 19). Вы должны найти разницу в днях между имеющимися датами. Например, между сегодня и вчера = 1 день. Разница между днями всегда будет положительной или нулем, не забывайте про абсолютное значение."
   ]
  },
  {
   "cell_type": "code",
   "execution_count": 89,
   "id": "c0f6f286",
   "metadata": {},
   "outputs": [],
   "source": [
    "from datetime import date\n",
    "def days_diff(a, b):\n",
    "    return abs((date(*a) - date(*b)).days)\n"
   ]
  },
  {
   "cell_type": "code",
   "execution_count": 93,
   "id": "70692641",
   "metadata": {},
   "outputs": [
    {
     "data": {
      "text/plain": [
       "True"
      ]
     },
     "execution_count": 93,
     "metadata": {},
     "output_type": "execute_result"
    }
   ],
   "source": [
    "days_diff((1982, 4, 19), (1982, 4, 22)) == 3\n",
    "days_diff((2014, 1, 1), (2014, 8, 27)) == 238"
   ]
  },
  {
   "cell_type": "markdown",
   "id": "db0e4e5c",
   "metadata": {},
   "source": [
    "# Count Digits\n",
    "\n",
    "Вам нужно подсчитать количество цифр в данной строке."
   ]
  },
  {
   "cell_type": "code",
   "execution_count": 97,
   "id": "6e0139c9",
   "metadata": {},
   "outputs": [],
   "source": [
    "def count_digits(text: str) -> int:\n",
    "    return sum([x.isdigit() for x in text])"
   ]
  },
  {
   "cell_type": "code",
   "execution_count": 98,
   "id": "ad457bb7",
   "metadata": {},
   "outputs": [
    {
     "data": {
      "text/plain": [
       "True"
      ]
     },
     "execution_count": 98,
     "metadata": {},
     "output_type": "execute_result"
    }
   ],
   "source": [
    "count_digits('hi') == 0\n",
    "count_digits('who is 1st here') == 1\n",
    "count_digits('my numbers is 2') == 1\n",
    "count_digits('This picture is an oil on canvas '\n",
    " 'painting by Danish artist Anna '\n",
    " 'Petersen between 1845 and 1910 year') == 8\n",
    "count_digits('5 plus 6 is') == 2\n",
    "count_digits('') == 0"
   ]
  },
  {
   "cell_type": "markdown",
   "id": "5dcee57d",
   "metadata": {},
   "source": [
    "# Backward Each Word\n",
    "\n",
    "Требуется обратить порядок букв в каждом слове предоставленной строки, так чтобы слова остались на своих местах."
   ]
  },
  {
   "cell_type": "code",
   "execution_count": 99,
   "id": "01549b15",
   "metadata": {},
   "outputs": [],
   "source": [
    "def backward_string_by_word(text: str) -> str:\n",
    "    return ' '.join([x[::-1] for x in text.split(' ')])"
   ]
  },
  {
   "cell_type": "code",
   "execution_count": 100,
   "id": "9c7d54d6",
   "metadata": {},
   "outputs": [
    {
     "data": {
      "text/plain": [
       "True"
      ]
     },
     "execution_count": 100,
     "metadata": {},
     "output_type": "execute_result"
    }
   ],
   "source": [
    "backward_string_by_word('') == ''\n",
    "backward_string_by_word('world') == 'dlrow'\n",
    "backward_string_by_word('hello world') == 'olleh dlrow'\n",
    "backward_string_by_word('hello   world') == 'olleh   dlrow'"
   ]
  },
  {
   "cell_type": "markdown",
   "id": "e1912712",
   "metadata": {},
   "source": [
    "# Bigger Price\n",
    "\n",
    "Дана таблица всех доступных продуктов на складе. Данные представлены в виде списка словарей (a list of dicts)\n",
    "\n",
    "Ваша миссия тут - это найти ТОП самых дорогих товаров. Количество товаров, которые мы ищем, будет передано в первом аргументе, а сами данные по товарам будут переданы вторым аргументом.\n",
    "\n",
    "Вх. данные: Число и список словарей (int and list of dicts). Каждый словарь имеет 2 ключа \"name\" и \"price\".\n",
    "\n",
    "Вых. данные: Такой же как и второй аргумент."
   ]
  },
  {
   "cell_type": "code",
   "execution_count": 113,
   "id": "1946ca99",
   "metadata": {},
   "outputs": [],
   "source": [
    "def bigger_price(limit: int, data: list) -> list:\n",
    "    \"\"\"\n",
    "        TOP most expensive goods\n",
    "    \"\"\"   \n",
    "    \n",
    "    return sorted(data, key=lambda x: x['price'], reverse=True)[:limit]\n"
   ]
  },
  {
   "cell_type": "code",
   "execution_count": 114,
   "id": "6d5297a7",
   "metadata": {},
   "outputs": [
    {
     "data": {
      "text/plain": [
       "True"
      ]
     },
     "execution_count": 114,
     "metadata": {},
     "output_type": "execute_result"
    }
   ],
   "source": [
    "bigger_price(2, [\n",
    "    {\"name\": \"bread\", \"price\": 100},\n",
    "    {\"name\": \"wine\", \"price\": 138},\n",
    "    {\"name\": \"meat\", \"price\": 15},\n",
    "    {\"name\": \"water\", \"price\": 1}\n",
    "]) == [\n",
    "    {\"name\": \"wine\", \"price\": 138},\n",
    "    {\"name\": \"bread\", \"price\": 100}\n",
    "]\n",
    "\n",
    "bigger_price(1, [\n",
    "    {\"name\": \"pen\", \"price\": 5},\n",
    "    {\"name\": \"whiteboard\", \"price\": 170}\n",
    "]) == [{\"name\": \"whiteboard\", \"price\": 170}]"
   ]
  },
  {
   "cell_type": "markdown",
   "id": "08912773",
   "metadata": {},
   "source": [
    "# Non-unique Elements\n",
    "\n",
    "Дан непустой массив целых чисел (X). В этой задаче вам нужно вернуть массив, состоящий только из неуникальных элементов данного массива. Для этого необходимо удалить все уникальные элементы (которые присутствуют в данном массиве только один раз). Для решения этой задачи не меняйте оригинальный порядок элементов. Пример: [1, 2, 3, 1, 3], где 1 и 3 неуникальные элементы и результат будет [1, 3, 1, 3]."
   ]
  },
  {
   "cell_type": "code",
   "execution_count": 152,
   "id": "eb95cb25",
   "metadata": {},
   "outputs": [],
   "source": [
    "import numpy as np\n",
    "def checkio(data: list) -> list:    \n",
    "    mask = [False if data.count(x)==1 else True for x in data]\n",
    "    data = np.array(data)\n",
    "    return data[mask]"
   ]
  },
  {
   "cell_type": "code",
   "execution_count": 153,
   "id": "0ec8465e",
   "metadata": {},
   "outputs": [
    {
     "data": {
      "text/plain": [
       "array([ True,  True,  True,  True,  True])"
      ]
     },
     "execution_count": 153,
     "metadata": {},
     "output_type": "execute_result"
    }
   ],
   "source": [
    "checkio([1, 2, 3, 1, 3]) == [1, 3, 1, 3]\n",
    "checkio([1, 2, 3, 4, 5]) == []\n",
    "checkio([5, 5, 5, 5, 5]) == [5, 5, 5, 5, 5]\n",
    "checkio([10, 9, 10, 10, 9, 8]) == [10, 9, 10, 10, 9]"
   ]
  },
  {
   "cell_type": "code",
   "execution_count": 154,
   "id": "f43ed9d2",
   "metadata": {},
   "outputs": [],
   "source": [
    "def checkio(data:list) -> list:\n",
    "    return [x for x in data if data.count(x) > 1]"
   ]
  },
  {
   "cell_type": "code",
   "execution_count": 155,
   "id": "f04050bd",
   "metadata": {},
   "outputs": [
    {
     "data": {
      "text/plain": [
       "True"
      ]
     },
     "execution_count": 155,
     "metadata": {},
     "output_type": "execute_result"
    }
   ],
   "source": [
    "checkio([1, 2, 3, 1, 3]) == [1, 3, 1, 3]\n",
    "checkio([1, 2, 3, 4, 5]) == []\n",
    "checkio([5, 5, 5, 5, 5]) == [5, 5, 5, 5, 5]\n",
    "checkio([10, 9, 10, 10, 9, 8]) == [10, 9, 10, 10, 9]"
   ]
  },
  {
   "cell_type": "markdown",
   "id": "7db66550",
   "metadata": {},
   "source": [
    "# Popular Words\n",
    "\n",
    "Ваша задача в этой миссии определить популярность определенных слов в тексте.\n",
    "\n",
    "На вход вашей функции передается 2 аргумента. Текст и массив слов, популярность которых необходимо определить.\n",
    "\n",
    "При решении этой задачи обратите внимание на следующие моменты\n",
    "\n",
    "Слова необходимо искать во всеx регистрах. Т.е. если необходимо найти слово \"one\", значит для него будут подходить слова \"one\", \"One\", \"oNe\", \"ONE\" и.т.д.\n",
    "Искомые слова всегда указаны в нижнем регистре\n",
    "Если слово не найдено ни разу, то его необходимо вернуть в словаре со значением 0 (ноль)\n",
    "Входные параметры: Текст и массив искомых слов.\n",
    "\n",
    "Выходные параметры: Словарь, в котором ключами являются искомые слова и значениями то, сколько раз они встречаются в исходном тексте."
   ]
  },
  {
   "cell_type": "code",
   "execution_count": 165,
   "id": "a6e44005",
   "metadata": {},
   "outputs": [],
   "source": [
    "def popular_words(text: str, words: list) -> dict:\n",
    "    d = dict.fromkeys(words, 0)\n",
    "    for i in words:\n",
    "        d[i] =  text.lower().split().count(i)  \n",
    "    \n",
    "    return    d\n"
   ]
  },
  {
   "cell_type": "code",
   "execution_count": 166,
   "id": "6cc8678a",
   "metadata": {},
   "outputs": [
    {
     "data": {
      "text/plain": [
       "True"
      ]
     },
     "execution_count": 166,
     "metadata": {},
     "output_type": "execute_result"
    }
   ],
   "source": [
    "popular_words('''\n",
    "When I was One\n",
    "I had just begun\n",
    "When I was Two\n",
    "I was nearly new\n",
    "''', ['i', 'was', 'three', 'near']) == {\n",
    "    'i': 4,\n",
    "    'was': 3,\n",
    "    'three': 0,\n",
    "    'near': 0\n",
    "}\n"
   ]
  },
  {
   "cell_type": "code",
   "execution_count": 167,
   "id": "0e301d3b",
   "metadata": {},
   "outputs": [
    {
     "data": {
      "text/plain": [
       "{'i': 4, 'was': 3, 'three': 0, 'near': 0}"
      ]
     },
     "execution_count": 167,
     "metadata": {},
     "output_type": "execute_result"
    }
   ],
   "source": [
    "popular_words('''\n",
    "When I was One\n",
    "I had just begun\n",
    "When I was Two\n",
    "I was nearly new\n",
    "''', ['i', 'was', 'three', 'near'])"
   ]
  },
  {
   "cell_type": "code",
   "execution_count": 164,
   "id": "0d008d6e",
   "metadata": {},
   "outputs": [
    {
     "data": {
      "text/plain": [
       "0"
      ]
     },
     "execution_count": 164,
     "metadata": {},
     "output_type": "execute_result"
    }
   ],
   "source": [
    "'When I was One I had just begun When I was Two I was nearly new'.split().count('near')"
   ]
  },
  {
   "cell_type": "markdown",
   "id": "32f769c7",
   "metadata": {},
   "source": [
    "# Second Index\n",
    "\n",
    "Даны 2 строки. Необходимо найти индекс второго вхождения второй строки в первую.\n",
    "\n",
    "Разберем самый первый пример, когда необходимо найти второе вхождение \"s\" в слове \"sims\". Если бы нам надо было найти ее первое вхождение, то тут все просто: с помощью функции index или find мы можем узнать, что \"s\" – это самый первый символ в слове \"sims\", а значит индекс первого вхождения равен 0. Но нам необходимо найти вторую \"s\", а она 4-ая по счету. Значит индекс второго вхождения (и ответ на вопрос) равен 3."
   ]
  },
  {
   "cell_type": "code",
   "execution_count": 55,
   "id": "844844e9",
   "metadata": {},
   "outputs": [],
   "source": [
    "def second_index(text: str, symbol: str) -> [int, None]:\n",
    "    c = 0\n",
    "    for i, s in enumerate(text):        \n",
    "        if s==symbol:\n",
    "            c += 1\n",
    "        if c == 2 and s==symbol:\n",
    "            return i\n",
    "    return None\n"
   ]
  },
  {
   "cell_type": "code",
   "execution_count": 52,
   "id": "2a817f5b",
   "metadata": {},
   "outputs": [],
   "source": [
    "def second_index(text: str, symbol: str) -> [int, None]:\n",
    "    try:\n",
    "        return text.index(symbol, text.index(symbol) + 1)\n",
    "    except:\n",
    "        return None"
   ]
  },
  {
   "cell_type": "code",
   "execution_count": 56,
   "id": "fa2f1197",
   "metadata": {},
   "outputs": [
    {
     "data": {
      "text/plain": [
       "True"
      ]
     },
     "execution_count": 56,
     "metadata": {},
     "output_type": "execute_result"
    }
   ],
   "source": [
    "second_index(\"sims\", \"s\") == 3\n",
    "second_index(\"find the river\", \"e\") == 12\n",
    "second_index(\"hi\", \" \") is None"
   ]
  },
  {
   "cell_type": "code",
   "execution_count": 57,
   "id": "1d44671d",
   "metadata": {},
   "outputs": [
    {
     "data": {
      "text/plain": [
       "10"
      ]
     },
     "execution_count": 57,
     "metadata": {},
     "output_type": "execute_result"
    }
   ],
   "source": [
    "second_index(\"three occurrences\",\"r\")"
   ]
  },
  {
   "cell_type": "markdown",
   "id": "ec8547ae",
   "metadata": {},
   "source": [
    "# Sort Array by Element Frequency\n",
    "\n",
    "\n",
    "Отсортируйте данный итератор таким образом, чтобы его элементы оказались в порядке убывания частоты их появления, то есть по количеству раз, которое они появляются в элементах. Если два элемента имеют одинаковую частоту, они должны оказаться в том же порядке, в котором стояли изначально в итераторе."
   ]
  },
  {
   "cell_type": "code",
   "execution_count": 102,
   "id": "4ad36441",
   "metadata": {},
   "outputs": [],
   "source": [
    "from collections import Counter"
   ]
  },
  {
   "cell_type": "code",
   "execution_count": 115,
   "id": "b2f0cccf",
   "metadata": {},
   "outputs": [],
   "source": [
    "def frequency_sort(items):\n",
    "    counts = Counter(items)\n",
    "    return sorted(items, key=lambda x: counts[x]  - items.index(x),reverse=True) "
   ]
  },
  {
   "cell_type": "code",
   "execution_count": 122,
   "id": "c62ed46f",
   "metadata": {},
   "outputs": [],
   "source": [
    "ь"
   ]
  },
  {
   "cell_type": "code",
   "execution_count": 123,
   "id": "477a0b77",
   "metadata": {
    "scrolled": true
   },
   "outputs": [
    {
     "data": {
      "text/plain": [
       "True"
      ]
     },
     "execution_count": 123,
     "metadata": {},
     "output_type": "execute_result"
    }
   ],
   "source": [
    "# frequency_sort([4, 6, 2, 2, 6, 4, 4, 4]) == [4, 4, 4, 4, 6, 6, 2, 2]\n",
    "frequency_sort(['bob', 'bob', 'carl', 'alex', 'bob']) == ['bob', 'bob', 'bob', 'carl', 'alex']"
   ]
  },
  {
   "cell_type": "code",
   "execution_count": 114,
   "id": "cc1f6047",
   "metadata": {},
   "outputs": [
    {
     "data": {
      "text/plain": [
       "[2, 2, 6, 6, 4, 4, 4, 4]"
      ]
     },
     "execution_count": 114,
     "metadata": {},
     "output_type": "execute_result"
    }
   ],
   "source": [
    "frequency_sort([4, 6, 2, 2, 6, 4, 4, 4])"
   ]
  },
  {
   "cell_type": "markdown",
   "id": "083d39ee",
   "metadata": {},
   "source": [
    "# Pawn Brotherhood\n",
    "<img src='https://d17mnqrx9pmt3e.cloudfront.net/media/missions/media/aea94b197081464ca1748e4562b8fbae/pawns.png'>\n"
   ]
  },
  {
   "cell_type": "code",
   "execution_count": 217,
   "id": "0c24202a",
   "metadata": {},
   "outputs": [],
   "source": [
    "def safe_pawns(pawns: set) -> int:\n",
    "    pawns = tuple(zip((s[0] for s in pawns),(int(s[1]) for s in pawns)))\n",
    "    c = 0\n",
    "    for pawn in pawns:\n",
    "        c += (chr(ord(pawn[0])+1), pawn[1]-1) in pawns or (chr(ord(pawn[0])-1), pawn[1]-1) in pawns\n",
    "            \n",
    "    return c"
   ]
  },
  {
   "cell_type": "code",
   "execution_count": 224,
   "id": "d5fad5ac",
   "metadata": {},
   "outputs": [],
   "source": [
    "def safe_pawns(pawns: set) -> int:\n",
    "    c = 0\n",
    "    for pawn in pawns:\n",
    "        p1 = chr(ord(pawn[0]) + 1) + str(int(pawn[1]) - 1)\n",
    "        p2 = chr(ord(pawn[0]) - 1) + str(int(pawn[1]) - 1)\n",
    "        c += p1 in pawns or p2 in pawns    \n",
    "    return c"
   ]
  },
  {
   "cell_type": "code",
   "execution_count": null,
   "id": "6180398e",
   "metadata": {},
   "outputs": [],
   "source": [
    "safe_pawns({\"b4\", \"d4\", \"f4\", \"c3\", \"e3\", \"g5\", \"d2\"}) == 6\n",
    "safe_pawns({\"b4\", \"c4\", \"d4\", \"e4\", \"f4\", \"g4\", \"e5\"}) == 1\n",
    "safe_pawns([\"b4\",\"c4\",\"d4\",\"e4\",\"f4\",\"g4\",\"e3\"]) == 2"
   ]
  },
  {
   "cell_type": "markdown",
   "id": "de25b38a",
   "metadata": {},
   "source": [
    "# Sun Angle\n",
    "\n",
    "Ваша задача - определить угол солнца над горизонтом, зная время суток. Исходные данные: солнце встает на востоке в 6:00, что соответствует углу 0 градусов. В 12:00 солнце в зените, а значит угол = 90 градусов. В 18:00 солнце садится за горизонт и угол равен 180 градусов. В случае, если указано ночное время (раньше 6:00 или позже 18:00), функция должна вернуть фразу \"I don't see the sun!\".\n",
    "\n",
    "<img src='https://d17mnqrx9pmt3e.cloudfront.net/media/missions/media/70b4ef56a4f948218c1c218f08f77063/sun.png'>\n"
   ]
  },
  {
   "cell_type": "code",
   "execution_count": 277,
   "id": "8188b7ef",
   "metadata": {},
   "outputs": [],
   "source": [
    "from typing import Union\n",
    "\n",
    "def sun_angle(time: str) -> Union[int, str]:\n",
    "    time = tuple((int(time.split(':')[0]), int(time.split(':')[1])))\n",
    "    if time[0] < 6 or (time[0] >= 18 and time[1] > 0):\n",
    "        return \"I don't see the sun!\"\n",
    "    hour = 15\n",
    "    m = 0.25\n",
    "    return (time[0]-6)*hour+time[1]*m\n"
   ]
  },
  {
   "cell_type": "code",
   "execution_count": 278,
   "id": "f299bb6b",
   "metadata": {},
   "outputs": [
    {
     "data": {
      "text/plain": [
       "True"
      ]
     },
     "execution_count": 278,
     "metadata": {},
     "output_type": "execute_result"
    }
   ],
   "source": [
    "sun_angle(\"07:00\") == 15\n",
    "sun_angle(\"12:15\") == 93.75\n",
    "sun_angle(\"01:23\") == \"I don't see the sun!\""
   ]
  },
  {
   "cell_type": "code",
   "execution_count": 280,
   "id": "94b807d6",
   "metadata": {},
   "outputs": [
    {
     "data": {
      "text/plain": [
       "180.0"
      ]
     },
     "execution_count": 280,
     "metadata": {},
     "output_type": "execute_result"
    }
   ],
   "source": [
    "sun_angle(\"18:00\")"
   ]
  },
  {
   "cell_type": "code",
   "execution_count": 282,
   "id": "82545a21",
   "metadata": {},
   "outputs": [
    {
     "data": {
      "text/plain": [
       "\"I don't see the sun!\""
      ]
     },
     "execution_count": 282,
     "metadata": {},
     "output_type": "execute_result"
    }
   ],
   "source": [
    "sun_angle(\"18:01\")"
   ]
  },
  {
   "cell_type": "code",
   "execution_count": null,
   "id": "98374dcc",
   "metadata": {},
   "outputs": [],
   "source": []
  }
 ],
 "metadata": {
  "kernelspec": {
   "display_name": "Python 3",
   "language": "python",
   "name": "python3"
  },
  "language_info": {
   "codemirror_mode": {
    "name": "ipython",
    "version": 3
   },
   "file_extension": ".py",
   "mimetype": "text/x-python",
   "name": "python",
   "nbconvert_exporter": "python",
   "pygments_lexer": "ipython3",
   "version": "3.8.8"
  }
 },
 "nbformat": 4,
 "nbformat_minor": 5
}
