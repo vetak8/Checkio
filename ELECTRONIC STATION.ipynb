{
 "cells": [
  {
   "cell_type": "markdown",
   "id": "97b86e7c",
   "metadata": {},
   "source": [
    "# Words Order\n",
    "\n",
    "У вас есть текст и список слов. Вам нужно проверить, появляются ли слова в списке в том же порядке, что и в данном тексте.\n",
    "\n",
    "\n",
    "Случаи, которые вы должны ожидать при решении этой задачи:\n",
    "\n",
    "\n",
    "слово из списка отсутствует в тексте — ваша функция должна вернуть False;\n",
    "\n",
    "\n",
    "любое слово может встречаться в тексте более одного раза — используйте только первое;\n",
    "\n",
    "\n",
    "два слова в данном списке совпадают - ваша функция должна вернуть False;\n",
    "\n",
    "\n",
    "условие чувствительно к регистру, что означает, что «привет» и «привет» — это два разных слова;\n",
    "\n",
    "\n",
    "текст включает только английские буквы и пробелы."
   ]
  },
  {
   "cell_type": "code",
   "execution_count": null,
   "id": "2c6b822c",
   "metadata": {},
   "outputs": [],
   "source": []
  },
  {
   "cell_type": "code",
   "execution_count": 65,
   "id": "ceaca510",
   "metadata": {},
   "outputs": [],
   "source": [
    "def words_order(text: str, words: list) -> bool:\n",
    "    positions = [text.find(x) for x in words if len(x) == ]\n",
    "    print(positions)\n",
    "    for i in range(len(positions)-1):\n",
    "        print(i)\n",
    "        if positions[i] >= positions[i+1] or positions[i] < 0:\n",
    "            return False\n",
    "    return True"
   ]
  },
  {
   "cell_type": "code",
   "execution_count": 67,
   "id": "6f6f28d5",
   "metadata": {},
   "outputs": [],
   "source": [
    "def words_order(text: str, words: list) -> bool:\n",
    "    text = text.split()\n",
    "    tmp = -1\n",
    "    for x in words:\n",
    "        if x in text and text.index(x) > tmp:\n",
    "            tmp = text.index(x)\n",
    "            continue\n",
    "        return False\n",
    "    return True"
   ]
  },
  {
   "cell_type": "code",
   "execution_count": 47,
   "id": "16d2ad2a",
   "metadata": {},
   "outputs": [
    {
     "data": {
      "text/plain": [
       "True"
      ]
     },
     "execution_count": 47,
     "metadata": {},
     "output_type": "execute_result"
    }
   ],
   "source": [
    "words_order('hi world im here', ['world', 'here']) == True\n",
    "words_order('hi world im here', ['here', 'world']) == False\n",
    "words_order('hi world im here', ['world']) == True\n",
    "words_order('hi world im here',\n",
    "            ['world', 'here', 'hi']) == False\n",
    "words_order('hi world im here',\n",
    "            ['world', 'im', 'here']) == True\n",
    "words_order('hi world im here',\n",
    "            ['world', 'hi', 'here']) == False\n",
    "words_order('hi world im here', ['world', 'world']) == False\n",
    "words_order('hi world im here',\n",
    "            ['country', 'world']) == False\n",
    "words_order('hi world im here', ['wo', 'rld']) == False\n",
    "words_order('', ['world', 'here']) == False"
   ]
  },
  {
   "cell_type": "markdown",
   "id": "2b42ed65",
   "metadata": {},
   "source": [
    "# Sort by Extension\n",
    "\n",
    "Вам дан список файлов. Вам нужно отсортировать этот список по расширению файла. Файлы с одинаковым расширением должны быть отсортированы по имени.\n",
    "\n",
    "Некоторые возможные случаи:\n",
    "\n",
    "Имя файла не может быть пустой строкой;\n",
    "\n",
    "\n",
    "Файлы без расширения должны идти перед файлами с ним;\n",
    "\n",
    "\n",
    "Имя файла '.config' имеет пустое расширение и имя '.config';\n",
    "\n",
    "\n",
    "Имя файла 'config.' имеет пустое расширение и имя 'config.';\n",
    "\n",
    "\n",
    "Имя файла 'table.imp.xls' имеет расширение 'xls' и имя 'table.imp';\n",
    "\n",
    "\n",
    "Имя файла '.imp.xls' имеет расширение 'xls' и имя '.imp'."
   ]
  },
  {
   "cell_type": "code",
   "execution_count": 77,
   "id": "c414c67e",
   "metadata": {},
   "outputs": [],
   "source": [
    "from typing import List\n",
    "\n",
    "def sort_by_ext(files: List[str]) -> List[str]:\n",
    "    files = sorted(files)\n",
    "    p_0 = sorted([x for x in files if x.split('.')[-2] == ''], key=lambda x: x.split('.')[-1])\n",
    "    p_1 = sorted([x for x in files if x.split('.')[-2] != ''], key=lambda x: x.split('.')[-1])\n",
    "    return  p_0 + p_1\n",
    "        "
   ]
  },
  {
   "cell_type": "code",
   "execution_count": 78,
   "id": "f25ed848",
   "metadata": {},
   "outputs": [
    {
     "data": {
      "text/plain": [
       "True"
      ]
     },
     "execution_count": 78,
     "metadata": {},
     "output_type": "execute_result"
    }
   ],
   "source": [
    "all([sort_by_ext(['1.cad', '1.bat', '1.aa']) == ['1.aa', '1.bat', '1.cad'],\n",
    "sort_by_ext(['1.cad', '1.bat', '1.aa', '2.bat']) == ['1.aa', '1.bat', '2.bat', '1.cad'],\n",
    "sort_by_ext(['1.cad', '1.bat', '1.aa', '.bat']) == ['.bat', '1.aa', '1.bat', '1.cad'],\n",
    "sort_by_ext(['1.cad', '1.bat', '.aa', '.bat']) == ['.aa', '.bat', '1.bat', '1.cad'],\n",
    "sort_by_ext(['1.cad', '1.', '1.aa']) == ['1.', '1.aa', '1.cad'],\n",
    "sort_by_ext(['1.cad', '1.bat', '1.aa', '1.aa.doc']) == ['1.aa', '1.bat', '1.cad', '1.aa.doc']])"
   ]
  },
  {
   "cell_type": "code",
   "execution_count": 82,
   "id": "beca15ff",
   "metadata": {},
   "outputs": [
    {
     "data": {
      "text/plain": [
       "['.aa', '1.bat', '2.bat', '1.cad']"
      ]
     },
     "execution_count": 82,
     "metadata": {},
     "output_type": "execute_result"
    }
   ],
   "source": [
    "sort_by_ext(['1.cad', '1.bat', '.aa', '2.bat'])"
   ]
  },
  {
   "cell_type": "code",
   "execution_count": 80,
   "id": "eb30d9ab",
   "metadata": {},
   "outputs": [
    {
     "data": {
      "text/plain": [
       "True"
      ]
     },
     "execution_count": 80,
     "metadata": {},
     "output_type": "execute_result"
    }
   ],
   "source": [
    "sort_by_ext(['1.cad', '1.bat', '1.aa', '.bat']) == ['.bat', '1.aa', '1.bat', '1.cad']"
   ]
  },
  {
   "cell_type": "code",
   "execution_count": 81,
   "id": "51bb42a7",
   "metadata": {},
   "outputs": [
    {
     "data": {
      "text/plain": [
       "['.bat', '1.aa', '1.bat', '1.cad']"
      ]
     },
     "execution_count": 81,
     "metadata": {},
     "output_type": "execute_result"
    }
   ],
   "source": [
    "sort_by_ext(['1.cad', '1.bat', '1.aa', '.bat'])"
   ]
  },
  {
   "cell_type": "code",
   "execution_count": 75,
   "id": "8e7c7842",
   "metadata": {},
   "outputs": [],
   "source": [
    "l = ['1.cad', '1.bat', '.kaa', '2.bat']\n",
    "s = sorted([x for x in l if x.split('.')[-2] == ''], key=lambda x: x.split('.')[-1]) + \\\n",
    "    sorted([x for x in l if x.split('.')[-2] != ''],\n",
    "           key=lambda x: x.split('.')[-1] if x.split('.')[-1] !=x.split('.')[-1] else x.split('.')[-2] )\n",
    "# e = [x for x in l if x.split('.')[-1] == '']"
   ]
  },
  {
   "cell_type": "code",
   "execution_count": 76,
   "id": "b4690e4e",
   "metadata": {},
   "outputs": [
    {
     "data": {
      "text/plain": [
       "['.kaa', '1.cad', '1.bat', '2.bat']"
      ]
     },
     "execution_count": 76,
     "metadata": {},
     "output_type": "execute_result"
    }
   ],
   "source": [
    "s"
   ]
  },
  {
   "cell_type": "code",
   "execution_count": 56,
   "id": "0a17708b",
   "metadata": {},
   "outputs": [
    {
     "data": {
      "text/plain": [
       "''"
      ]
     },
     "execution_count": 56,
     "metadata": {},
     "output_type": "execute_result"
    }
   ],
   "source": [
    "'.a'.split('.')[-2]"
   ]
  },
  {
   "cell_type": "code",
   "execution_count": 8,
   "id": "dc5f747f",
   "metadata": {},
   "outputs": [
    {
     "data": {
      "text/plain": [
       "['1.aa', '1.bat', '1.cad']"
      ]
     },
     "execution_count": 8,
     "metadata": {},
     "output_type": "execute_result"
    }
   ],
   "source": [
    "sorted(l, key=lambda x:x.split('.'))"
   ]
  },
  {
   "cell_type": "code",
   "execution_count": null,
   "id": "4c43620b",
   "metadata": {},
   "outputs": [],
   "source": []
  },
  {
   "cell_type": "code",
   "execution_count": null,
   "id": "d526583a",
   "metadata": {},
   "outputs": [],
   "source": []
  },
  {
   "cell_type": "code",
   "execution_count": null,
   "id": "13c42bf1",
   "metadata": {},
   "outputs": [],
   "source": []
  },
  {
   "cell_type": "markdown",
   "id": "2c4e72da",
   "metadata": {},
   "source": [
    "# Digits Multiplication\n",
    "\n",
    "Дано положительное целое число. Вам необходимо подсчитать произведение всех цифр в этом числе, за исключением нулей.\n",
    "\n",
    "\n",
    "Для примера: Дано число 123405. Результат будет: 1*2*3*4*5=120 (не забудьте исключить нули).\n",
    "\n",
    "\n",
    "Входные данные: Положительное целое число.\n",
    "\n",
    "\n",
    "Выходные данные: Произведение цифр как целочисленное (int)."
   ]
  },
  {
   "cell_type": "code",
   "execution_count": 117,
   "id": "e6708975",
   "metadata": {},
   "outputs": [],
   "source": [
    "def checkio(number: int) -> int:\n",
    "    mult = 1\n",
    "    while number:\n",
    "        if number % 10 == 0:\n",
    "            number //= 10\n",
    "            continue\n",
    "        mult *= number % 10\n",
    "        number //= 10\n",
    "\n",
    "    return mult"
   ]
  },
  {
   "cell_type": "code",
   "execution_count": 122,
   "id": "86908518",
   "metadata": {},
   "outputs": [],
   "source": [
    "from functools import reduce\n",
    "\n",
    "\n",
    "def checkio(number: int) -> int:\n",
    "\n",
    "    return reduce(lambda x, y: x*y, [int(x) for x in list(map(str, [number]))[0].replace('0', '')])"
   ]
  },
  {
   "cell_type": "code",
   "execution_count": 125,
   "id": "92154a20",
   "metadata": {},
   "outputs": [
    {
     "data": {
      "text/plain": [
       "True"
      ]
     },
     "execution_count": 125,
     "metadata": {},
     "output_type": "execute_result"
    }
   ],
   "source": [
    "checkio(123405) == 120\n",
    "checkio(999) == 729\n",
    "checkio(1000) == 1\n",
    "checkio(1111) == 1"
   ]
  },
  {
   "cell_type": "markdown",
   "id": "2c983449",
   "metadata": {},
   "source": [
    "# Acceptable Password II\n",
    "\n",
    "В этой миссии вам нужно создать функцию проверки пароля.\n",
    "\n",
    "\n",
    "Это условия проверки:\n",
    "\n",
    "\n",
    "длина должна быть больше 6;\n",
    "\n",
    "\n",
    "должен содержать хотя бы одну цифру."
   ]
  },
  {
   "cell_type": "code",
   "execution_count": 169,
   "id": "f7cfc1ea",
   "metadata": {},
   "outputs": [],
   "source": [
    "def is_acceptable_password(text: str) -> bool:\n",
    "    return any([x.isdigit() for x in text if len(text) > 6])"
   ]
  },
  {
   "cell_type": "code",
   "execution_count": 170,
   "id": "f2237a09",
   "metadata": {},
   "outputs": [
    {
     "data": {
      "text/plain": [
       "True"
      ]
     },
     "execution_count": 170,
     "metadata": {},
     "output_type": "execute_result"
    }
   ],
   "source": [
    "all([is_acceptable_password('short') == False,\n",
    "     is_acceptable_password('muchlonger') == False,\n",
    "     is_acceptable_password('ashort') == False,\n",
    "     is_acceptable_password('muchlonger5') == True,\n",
    "     is_acceptable_password('sh5') == False])"
   ]
  },
  {
   "cell_type": "markdown",
   "id": "d7c85d5d",
   "metadata": {},
   "source": [
    "# Acceptable Password III\n",
    "\n",
    "В этой миссии вам нужно создать функцию проверки пароля.\n",
    "\n",
    "Это условия проверки:\n",
    "\n",
    "\n",
    "длина должна быть больше 6;\n",
    "\n",
    "\n",
    "должен содержать хотя бы одну цифру, но не может состоять только из цифр."
   ]
  },
  {
   "cell_type": "code",
   "execution_count": 166,
   "id": "9b5be9d9",
   "metadata": {},
   "outputs": [],
   "source": [
    "def is_acceptable_password(text: str) -> bool:\n",
    "    return any([x.isdigit() for x in text if len(text) > 6 and all([y.isdigit() for y in text]) == False])"
   ]
  },
  {
   "cell_type": "code",
   "execution_count": 168,
   "id": "7094624a",
   "metadata": {},
   "outputs": [
    {
     "data": {
      "text/plain": [
       "True"
      ]
     },
     "execution_count": 168,
     "metadata": {},
     "output_type": "execute_result"
    }
   ],
   "source": [
    "all([is_acceptable_password('short') == False,\n",
    "     is_acceptable_password('muchlonger') == False,\n",
    "     is_acceptable_password('ashort') == False,\n",
    "     is_acceptable_password('muchlonger5') == True,\n",
    "     is_acceptable_password('sh5') == False,\n",
    "     is_acceptable_password('1234567') == False])"
   ]
  },
  {
   "cell_type": "markdown",
   "id": "796395f5",
   "metadata": {},
   "source": [
    "# Acceptable Password IV\n",
    "\n",
    "В этой миссии вам нужно создать функцию проверки пароля.\n",
    "\n",
    "Это условия проверки:\n",
    "\n",
    "длина должна быть больше 6;\n",
    "\n",
    "\n",
    "должен содержать хотя бы одну цифру, но не может состоять только из цифр;\n",
    "\n",
    "\n",
    "если пароль длиннее 9 - предыдущее правило (о одной цифре), не требуется."
   ]
  },
  {
   "cell_type": "code",
   "execution_count": 171,
   "id": "82aff22d",
   "metadata": {},
   "outputs": [],
   "source": [
    "def is_acceptable_password(text: str) -> bool:\n",
    "    if len(text) > 9:\n",
    "        return True\n",
    "\n",
    "    return any([x.isdigit() for x in text if len(text) > 6 and all([y.isdigit() for y in text]) == False])"
   ]
  },
  {
   "cell_type": "code",
   "execution_count": 172,
   "id": "c3479d78",
   "metadata": {},
   "outputs": [
    {
     "data": {
      "text/plain": [
       "True"
      ]
     },
     "execution_count": 172,
     "metadata": {},
     "output_type": "execute_result"
    }
   ],
   "source": [
    "all([is_acceptable_password('short') == False,\n",
    "     is_acceptable_password('short54') == True,\n",
    "     is_acceptable_password('muchlonger') == True,\n",
    "     is_acceptable_password('ashort') == False,\n",
    "     is_acceptable_password('muchlonger5') == True,\n",
    "     is_acceptable_password('sh5') == False,\n",
    "     is_acceptable_password('1234567') == False,\n",
    "     is_acceptable_password('12345678910') == True])"
   ]
  },
  {
   "cell_type": "markdown",
   "id": "dc8ca7c1",
   "metadata": {},
   "source": [
    "# Acceptable Password V\n",
    "\n",
    "В этой миссии вам нужно создать функцию проверки пароля.\n",
    "\n",
    "Это условия проверки:\n",
    "\n",
    "длина должна быть больше 6;\n",
    "\n",
    "\n",
    "должен содержать хотя бы одну цифру, но не может состоять только из цифр;\n",
    "\n",
    "\n",
    "наличие цифр или просто цифр не применяется к паролю длиннее 9.\n",
    "\n",
    "\n",
    "строка ни в коем случае не должна содержать слово \"password\"."
   ]
  },
  {
   "cell_type": "code",
   "execution_count": 177,
   "id": "a56e4c93",
   "metadata": {},
   "outputs": [],
   "source": [
    "def is_acceptable_password(text: str) -> bool:\n",
    "    if 'password' in text.lower():\n",
    "        return False\n",
    "    if len(text) > 9:\n",
    "        return True\n",
    "\n",
    "    return any([x.isdigit() for x in text if len(text) > 6 and all([y.isdigit() for y in text]) == False])"
   ]
  },
  {
   "cell_type": "code",
   "execution_count": 180,
   "id": "e3a41c1b",
   "metadata": {},
   "outputs": [
    {
     "data": {
      "text/plain": [
       "True"
      ]
     },
     "execution_count": 180,
     "metadata": {},
     "output_type": "execute_result"
    }
   ],
   "source": [
    "all([is_acceptable_password('short') == False,\n",
    "     is_acceptable_password('short54') == True,\n",
    "     is_acceptable_password('muchlonger') == True,\n",
    "     is_acceptable_password('ashort') == False,\n",
    "     is_acceptable_password('muchlonger5') == True,\n",
    "     is_acceptable_password('sh5') == False,\n",
    "     is_acceptable_password('1234567') == False,\n",
    "     is_acceptable_password('12345678910') == True,\n",
    "     is_acceptable_password('password12345') == False,\n",
    "     is_acceptable_password('PASSWORD12345') == False,\n",
    "     is_acceptable_password('pass1234word') == True])"
   ]
  },
  {
   "cell_type": "markdown",
   "id": "34ccb3b5",
   "metadata": {},
   "source": [
    "# Acceptable Password VI\n",
    "\n",
    "В этой миссии вам нужно создать функцию проверки пароля.\n",
    "\n",
    "Это условия проверки:\n",
    "\n",
    "длина должна быть больше 6;\n",
    "\n",
    "\n",
    "должен содержать хотя бы одну цифру, но не может состоять только из цифр;\n",
    "\n",
    "\n",
    "наличие цифр или просто цифр не применяется к паролю длиннее 9.\n",
    "\n",
    "\n",
    "строка ни в коем случае не должна содержать слово «пароль»;\n",
    "\n",
    "\n",
    "должен содержать не менее 3 разных букв (или цифр), даже если он длиннее 10"
   ]
  },
  {
   "cell_type": "code",
   "execution_count": 184,
   "id": "b92879d1",
   "metadata": {},
   "outputs": [],
   "source": [
    "def is_acceptable_password(text: str) -> bool:\n",
    "    if len(set(text)) < 3:\n",
    "        return False    \n",
    "    if 'password' in text.lower():\n",
    "        return False\n",
    "    if len(text) > 9:\n",
    "        return True\n",
    "\n",
    "    return any([x.isdigit() for x in text if len(text) > 6 and all([y.isdigit() for y in text]) == False])"
   ]
  },
  {
   "cell_type": "code",
   "execution_count": 187,
   "id": "b785d418",
   "metadata": {},
   "outputs": [
    {
     "data": {
      "text/plain": [
       "True"
      ]
     },
     "execution_count": 187,
     "metadata": {},
     "output_type": "execute_result"
    }
   ],
   "source": [
    "all([is_acceptable_password('short') == False,\n",
    "is_acceptable_password('short54') == True,\n",
    "is_acceptable_password('muchlonger') == True,\n",
    "is_acceptable_password('ashort') == False,\n",
    "is_acceptable_password('muchlonger5') == True,\n",
    "is_acceptable_password('sh5') == False,\n",
    "is_acceptable_password('1234567') == False,\n",
    "is_acceptable_password('12345678910') == True,\n",
    "is_acceptable_password('password12345') == False,\n",
    "is_acceptable_password('PASSWORD12345') == False,\n",
    "is_acceptable_password('pass1234word') == True,\n",
    "is_acceptable_password('aaaaaa1') == False,\n",
    "is_acceptable_password('aaaaaabbbbb') == False])"
   ]
  },
  {
   "cell_type": "markdown",
   "id": "315ad189",
   "metadata": {},
   "source": [
    "# All Upper II\n",
    "\n",
    "Проверить, есть ли в данной строке все символы в верхнем регистре. Если строка пуста или в ней нет ни одной буквы - функция должна вернуть False.\n",
    "\n",
    "\n",
    "Вход: строка.\n",
    "\n",
    "\n",
    "Выход: логическое значение."
   ]
  },
  {
   "cell_type": "code",
   "execution_count": 222,
   "id": "d9e3ead2",
   "metadata": {},
   "outputs": [],
   "source": [
    "def is_all_upper(text: str) -> bool:\n",
    "    if len(text) == 0 or any([x.isalpha() for x in text.replace(' ', '')])==False:\n",
    "        return False\n",
    "    return     all([x.isupper() for x in text.replace(' ', '') if x.isdigit()==False ])\n"
   ]
  },
  {
   "cell_type": "code",
   "execution_count": 223,
   "id": "b834f6da",
   "metadata": {},
   "outputs": [],
   "source": [
    "def is_all_upper(text: str) -> bool:\n",
    "    return text.isupper()"
   ]
  },
  {
   "cell_type": "code",
   "execution_count": 224,
   "id": "a5617aeb",
   "metadata": {},
   "outputs": [
    {
     "data": {
      "text/plain": [
       "True"
      ]
     },
     "execution_count": 224,
     "metadata": {},
     "output_type": "execute_result"
    }
   ],
   "source": [
    "all([is_all_upper('ALL UPPER') == True,\n",
    "is_all_upper('all lower') == False,\n",
    "is_all_upper('mixed UPPER and lower') == False,\n",
    "is_all_upper('') == False])"
   ]
  },
  {
   "cell_type": "code",
   "execution_count": 225,
   "id": "762b5170",
   "metadata": {},
   "outputs": [
    {
     "data": {
      "text/plain": [
       "False"
      ]
     },
     "execution_count": 225,
     "metadata": {},
     "output_type": "execute_result"
    }
   ],
   "source": [
    "is_all_upper(\"\")"
   ]
  },
  {
   "cell_type": "markdown",
   "id": "13866481",
   "metadata": {},
   "source": [
    "# Ascending List\n",
    "\n",
    "Определите, является ли последовательность элементов в порядке возрастания, так что каждый из ее элементов строго больше предыдущего элемента (а не просто равен ему)."
   ]
  },
  {
   "cell_type": "code",
   "execution_count": 228,
   "id": "3cda64c3",
   "metadata": {},
   "outputs": [],
   "source": [
    "from typing import Iterable\n",
    "def is_ascending(items: Iterable[int]) -> bool:\n",
    "    b = True\n",
    "    for i in range(len(items) - 1):\n",
    "        if items[i] >= items[i+1]:\n",
    "            return False\n",
    "    return True\n"
   ]
  },
  {
   "cell_type": "code",
   "execution_count": 231,
   "id": "10b8bf13",
   "metadata": {},
   "outputs": [
    {
     "data": {
      "text/plain": [
       "True"
      ]
     },
     "execution_count": 231,
     "metadata": {},
     "output_type": "execute_result"
    }
   ],
   "source": [
    "all([is_ascending([-5, 10, 99, 123456]) == True,\n",
    "is_ascending([99]) == True,\n",
    "is_ascending([4, 5, 6, 7, 3, 7, 9]) == False,\n",
    "is_ascending([]) == True,\n",
    "is_ascending([1, 1, 1, 1]) == False])"
   ]
  },
  {
   "attachments": {
    "image.png": {
     "image/png": "[encoded data removed]"
    }
   },
   "cell_type": "markdown",
   "id": "7c586805",
   "metadata": {},
   "source": [
    "# Boolean Algebra\n",
    "\n",
    "В математике и математической логике, Булева алгебра это подраздел алгебры, в котором значения переменных истинны или ложны, и обычно обозначенны 0 или 1 соответственно. \n",
    "\n",
    "В отличии от простой алгебры, где значение переменных — это числа, и основные операции это сложение и умножение, основные операции Булевой алегбры это конъюнкция — ∧, дизъюнкция — ∨, и отрицание — ¬.\n",
    "\n",
    "В этой миссии вам нужно реализовать несколько булевых операций:\n",
    "\n",
    "\n",
    "• конъюнкция (\"conjunction\") обозначенная x ∧ y, удовлетворяющая условиям x ∧ y = 1 если x = y = 1 и x ∧ y = 0 иначе.\n",
    "\n",
    "\n",
    "• дизъюнкция (\"disjunction\") обозначенная x ∨ y, удовлетворяющая условиям x ∨ y = 0 если x = y = 0 и x ∨ y = 1 иначе.\n",
    "\n",
    "\n",
    "• импликация (\"implication\") (прямая импликация) обозначенная x→y и описанная как ¬ x ∨ y. Если x это истина, тогда значение x → y берётся такое, как y. Но если x — ложь, тогда результат будет истина без учёта значения y.\n",
    "\n",
    "\n",
    "• исключение (\"exclusive\") (исключающее ИЛИ) обозначенное x ⊕ y и описанное как (x ∨ y)∧ ¬ (x ∧ y). Результат истина если x и y различны, и ложь в противном случае. В терминах арифметики, это сложение по модулю 2, где 1 + 1 = 0.\n",
    "\n",
    "\n",
    "• эквивалентность (\"equivalence\") обозначенная x ≡ y и описанная как ¬ (x ⊕ y). Это истина, когда x и y имеют одинаковые значения.\n",
    "\n",
    "\n",
    "Здесь вы можете увидеть таблицу истинности для данных операций:\n",
    "\n",
    "![image.png](attachment:image.png)"
   ]
  },
  {
   "cell_type": "code",
   "execution_count": 267,
   "id": "173811ee",
   "metadata": {},
   "outputs": [],
   "source": [
    "OPERATION_NAMES = (\"conjunction\", \"disjunction\", \"implication\", \"exclusive\",\n",
    "                   \"equivalence\")\n",
    "d = {\n",
    "    'conjunction': lambda x, y: x * y,\n",
    "    'disjunction': lambda x, y: 1 if any((x, y)) == 1 else 0,\n",
    "    'implication': lambda x, y: any((x, y)) <= y,\n",
    "    'exclusive': lambda x, y: len(set((x, y))) != 1,\n",
    "    'equivalence': lambda x, y: len(set((x, y))) == 1\n",
    "}\n",
    "\n",
    "\n",
    "def boolean(x, y, operation):\n",
    "    return d[operation](x, y)"
   ]
  },
  {
   "cell_type": "code",
   "execution_count": 269,
   "id": "c678cf55",
   "metadata": {},
   "outputs": [
    {
     "data": {
      "text/plain": [
       "True"
      ]
     },
     "execution_count": 269,
     "metadata": {},
     "output_type": "execute_result"
    }
   ],
   "source": [
    "boolean(1, 0, \"conjunction\") == 0\n",
    "boolean(0, 1, \"exclusive\") == 1"
   ]
  },
  {
   "cell_type": "markdown",
   "id": "ec80f6e9",
   "metadata": {},
   "source": [
    "# Brackets\n",
    "\n",
    "Дано выражение с цифрами, скобками и операторами. \n",
    "\n",
    "В данной задаче важны только скобки.\n",
    "\n",
    "Скобки представлены в трех вариациях: \"{}\" \"()\" и \"[]\". \n",
    "\n",
    "Скобки используются, чтобы определить порядок применения операторов или ограничить участок выражения. \n",
    "\n",
    "Если скобка открывается, то она должна закрываться скобкой того же типа. Участки ограниченные...\n",
    "\n",
    "Если скобка открывается, то она должна закрываться скобкой того же типа. \n",
    "\n",
    "Участки ограниченные одной парой скобок, не должны пересекаться с участками других скобок. \n",
    "\n",
    "В этой задаче, вам необходимо определить правильное ли выражение или нет, основываясь на расположении скобок. \n",
    "\n",
    "И не обращайте внимание на операторы и операнды."
   ]
  },
  {
   "cell_type": "code",
   "execution_count": 181,
   "id": "d17f52c2",
   "metadata": {},
   "outputs": [],
   "source": [
    "def checkio(expression):\n",
    "    brackets = ('{', '}', '[', ']', '(', ')')\n",
    "    clear_expr = ''.join([x for x in expression if x in brackets])\n",
    "    while '()' in clear_expr or '{}' in clear_expr or '[]' in clear_expr:\n",
    "        clear_expr = clear_expr.replace('()', '')\n",
    "        clear_expr = clear_expr.replace('{}', '')\n",
    "        clear_expr = clear_expr.replace('[]', '')\n",
    "                               \n",
    "    return clear_expr == ''"
   ]
  },
  {
   "cell_type": "code",
   "execution_count": 182,
   "id": "6b6e1bb0",
   "metadata": {},
   "outputs": [
    {
     "data": {
      "text/plain": [
       "True"
      ]
     },
     "execution_count": 182,
     "metadata": {},
     "output_type": "execute_result"
    }
   ],
   "source": [
    "all([checkio(\"((5+3)*2+1)\") == True,\n",
    "checkio(\"{[(3+1)+2]+}\") == True,\n",
    "checkio(\"(3+{1-1)}\") == False,\n",
    "checkio(\"[1+1]+(2*2)-{3/3}\") == True,\n",
    "checkio(\"(({[(((1)-2)+3)-3]/3}-3)\") == False,\n",
    "checkio(\"2+3\") == True])"
   ]
  },
  {
   "cell_type": "markdown",
   "id": "73cd7f40",
   "metadata": {},
   "source": [
    "# Find Sequence\n",
    "\n",
    "Дана квадратная матрица размера NxN (4≤N≤10).\n",
    "\n",
    "Необходимо проверить есть ли здесь последовательность 4 или более одинаковых цифр. \n",
    "\n",
    "Последовательность должна неразрывно располагаться горизонтально, \n",
    "\n",
    "вертикально или по диагоналям (основным и дополнительным).\n",
    "\n",
    "\n",
    "<img src='https://d17mnqrx9pmt3e.cloudfront.net/media/missions/media/063e2dfa5ebd43ab9bc3c79fe62d4437/find-sequence.png'>\n",
    "\n",
    "\n",
    "Входные данные: Матрица, как список (list) списков с целыми числами.\n",
    "\n",
    "Выходные данные: ... Есть ли здесь последовательность, как булево значение (bool)."
   ]
  },
  {
   "cell_type": "code",
   "execution_count": 535,
   "id": "6b1b4948",
   "metadata": {},
   "outputs": [],
   "source": [
    "from typing import List\n",
    "\n",
    "\n",
    "def check_line(line):\n",
    "    i = 0\n",
    "    counter = 0\n",
    "    while i < len(line)-1:\n",
    "        if line[i] == line[i+1]:\n",
    "            counter += 1\n",
    "        else:\n",
    "            counter = 0\n",
    "        if counter == 3:\n",
    "            return True\n",
    "        i += 1\n",
    "\n",
    "    return False\n",
    "\n",
    "\n",
    "def get_diag(matrix, side='left'):\n",
    "    N = len(matrix)\n",
    "    if side == 'left':\n",
    "        return [matrix[x][x] for x in range(N)]\n",
    "    elif side == 'right':\n",
    "        return [[y[::-1] for y in matrix][x][x] for x in range(N)]\n",
    "\n",
    "\n",
    "def checkio(seq: List[List[int]]) -> bool:\n",
    "    N = len(seq)\n",
    "    for i in range(N):\n",
    "        v_lines = [[seq[x][i] for x in range(N)] for i in range(N)]\n",
    "        l_diags = [get_diag(seq[x:], 'left') for x in range(N) if len(get_diag(seq[x:])) >= 4] + \\\n",
    "            [z for z in [get_diag(list(map(lambda y:y[abs(x):], seq[:x])))\n",
    "                         for x in range(-1, -N, -1)] if len(z) >= 4]\n",
    "        r_diags = [get_diag(seq[x:], 'right') for x in range(N) if len(get_diag(seq[x:])) >= 4] + \\\n",
    "            [get_diag(seq[:x], 'right')\n",
    "             for x in range(N) if len(get_diag(seq[:x])) >= 4]\n",
    "\n",
    "    return any([check_line(x) for x in v_lines]) or any([check_line(x) for x in seq]) or any([check_line(x) for x in l_diags]) or any([check_line(x) for x in r_diags])"
   ]
  },
  {
   "cell_type": "code",
   "execution_count": 539,
   "id": "9a5b7d5a",
   "metadata": {},
   "outputs": [
    {
     "data": {
      "text/plain": [
       "True"
      ]
     },
     "execution_count": 539,
     "metadata": {},
     "output_type": "execute_result"
    }
   ],
   "source": [
    "all([checkio([\n",
    "    [1, 2, 1, 1],\n",
    "    [1, 1, 4, 1],\n",
    "    [1, 3, 1, 6],\n",
    "    [1, 7, 2, 5]\n",
    "]) == True,\n",
    "checkio([\n",
    "    [7, 1, 4, 1],\n",
    "    [1, 2, 5, 2],\n",
    "    [3, 4, 1, 3],\n",
    "    [1, 1, 8, 1]\n",
    "]) == False,\n",
    "checkio([\n",
    "    [2, 1, 1, 6, 1],\n",
    "    [1, 3, 2, 1, 1],\n",
    "    [4, 1, 1, 3, 1],\n",
    "    [5, 5, 5, 5, 5],\n",
    "    [1, 1, 3, 1, 1]\n",
    "]) == True,\n",
    "checkio([\n",
    "    [7, 1, 1, 8, 1, 1],\n",
    "    [1, 1, 7, 3, 1, 5],\n",
    "    [2, 3, 1, 2, 5, 1],\n",
    "    [1, 1, 1, 5, 1, 4],\n",
    "    [4, 6, 5, 1, 3, 1],\n",
    "    [1, 1, 9, 1, 2, 1]\n",
    "    ]) == True])"
   ]
  },
  {
   "cell_type": "code",
   "execution_count": 536,
   "id": "133a6b1f",
   "metadata": {},
   "outputs": [
    {
     "data": {
      "text/plain": [
       "True"
      ]
     },
     "execution_count": 536,
     "metadata": {},
     "output_type": "execute_result"
    }
   ],
   "source": [
    "checkio([[1, 9, 7, 8, 9, 3, 6, 5, 6, 2],\n",
    "         [4, 9, 4, 8, 3, 4, 8, 8, 5, 9],\n",
    "         [2, 8, 5, 5, 7, 8, 6, 1, 3, 6],\n",
    "         [6, 4, 7, 6, 9, 1, 4, 5, 7, 8],\n",
    "         [4, 7, 7, 9, 8, 8, 8, 8, 4, 4],\n",
    "         [3, 7, 3, 2, 1, 9, 1, 8, 9, 1],\n",
    "         [4, 7, 2, 4, 8, 1, 2, 3, 6, 2], \n",
    "         [4, 4, 1, 3, 3, 3, 9, 2, 6, 7],\n",
    "         [8, 6, 1, 9, 3, 5, 8, 1, 7, 5],\n",
    "         [7, 3, 6, 5, 3, 6, 6, 4, 8, 2]])"
   ]
  },
  {
   "cell_type": "markdown",
   "id": "b5bac03a",
   "metadata": {},
   "source": [
    "# Surjection Strings\n",
    "\n",
    "А может быть это шифр? Может быть, но это не точно.\n",
    "\n",
    "Вам надо проверить, что данная Строка А изометричка к Строке Б.\n",
    "\n",
    "Это значит что символ из Строки А может стать в соответствие символам из Строки Б.\n",
    "\n",
    "Один символ Строки А может соответствовать только одному символу Строки Б. \n",
    "\n",
    "Два или более символа Строки Б могут соответствовать одному символу Строки А.\n",
    "\n",
    "<img src='https://d17mnqrx9pmt3e.cloudfront.net/media/missions/media/835d2a2492b24aa682da086afed4f6a1/example.png'>"
   ]
  },
  {
   "cell_type": "code",
   "execution_count": 552,
   "id": "a83ae5fb",
   "metadata": {},
   "outputs": [],
   "source": [
    "def isometric_strings(a, b):\n",
    "    # your code here\n",
    "    return len(set(zip(a, b))) == len(set(a))\n"
   ]
  },
  {
   "cell_type": "code",
   "execution_count": 553,
   "id": "4b14420d",
   "metadata": {},
   "outputs": [
    {
     "data": {
      "text/plain": [
       "{('a', 'e'), ('d', 'g')}"
      ]
     },
     "execution_count": 553,
     "metadata": {},
     "output_type": "execute_result"
    }
   ],
   "source": [
    "set(zip('add', 'egg'))"
   ]
  },
  {
   "cell_type": "code",
   "execution_count": 554,
   "id": "25d4df0a",
   "metadata": {},
   "outputs": [
    {
     "data": {
      "text/plain": [
       "True"
      ]
     },
     "execution_count": 554,
     "metadata": {},
     "output_type": "execute_result"
    }
   ],
   "source": [
    "all([isometric_strings('add', 'egg') == True,\n",
    "isometric_strings('foo', 'bar') == False,\n",
    "isometric_strings('', '') == True,\n",
    "isometric_strings('all', 'all') == True,\n",
    "isometric_strings('gogopy', 'doodle') == False])"
   ]
  },
  {
   "cell_type": "markdown",
   "id": "a1e4e7b0",
   "metadata": {},
   "source": [
    "# Mathematically Lucky Tickets\n",
    "\n",
    "София открывает сундук с сокровищами. Внутри листы бумаги с шестизначными числами на каждом листе.\n",
    "\n",
    "\n",
    "'Что это?' — спросила она. — Никола, это то, о чем я думаю?\n",
    "\n",
    "\n",
    "«Они выглядят как счастливые билеты! Посмотрите, сколько их, должно быть, сотни! Любой из них может стать победителем!»\n",
    "\n",
    "\n",
    "'О чувак! Мы могли бы превратить их в комиссию за счастливый билет и получить награду! Я мог бы отплатить отцу за космический корабль!»\n",
    "\n",
    "\n",
    "— Эээ, ты не сам купил? — спросил Стивен Софию.\n",
    "\n",
    "\n",
    "«Ну, не как таковой. Я занял деньги у отца с условием, что верну ему деньги. Теперь, может быть, я смогу!»\n",
    "\n",
    "\n",
    "Стивен вздохнул. «Хорошо, давайте проверим билеты, чтобы узнать, есть ли у нас победитель».\n",
    "\n",
    "\n",
    "'У меня есть мысль. Я взял с собой свою вычислительную машину 5000. Я просто напишу быструю функцию, чтобы узнать..."
   ]
  },
  {
   "cell_type": "code",
   "execution_count": null,
   "id": "02965bb2",
   "metadata": {},
   "outputs": [],
   "source": []
  },
  {
   "cell_type": "markdown",
   "id": "2f627e73",
   "metadata": {},
   "source": [
    "# Similar Triangles\n",
    "\n",
    "Вам даны два списка в качестве координат вершин каждого треугольника.\n",
    "\n",
    "\n",
    "Вы должны вернуть bool. (треугольники подобны или нет)\n",
    "<img src='https://d17mnqrx9pmt3e.cloudfront.net/media/missions/media/ae9cb7fba0ea4dfebf8685fd2e219f2a/example_01.png'>\n",
    "<img src='https://d17mnqrx9pmt3e.cloudfront.net/media/missions/media/ae9cb7fba0ea4dfebf8685fd2e219f2a/example_02.png'>\n",
    "<img src='https://d17mnqrx9pmt3e.cloudfront.net/media/missions/media/ae9cb7fba0ea4dfebf8685fd2e219f2a/example_03.png'>\n",
    "\n",
    "Вход:\n",
    "\n",
    "Два списка в качестве координат вершин каждого треугольника.\n",
    "\n",
    "\n",
    "Координаты — это три кортежа из двух целых чисел."
   ]
  },
  {
   "cell_type": "code",
   "execution_count": 1,
   "id": "32497ff6",
   "metadata": {},
   "outputs": [],
   "source": [
    "from typing import List, Tuple\n",
    "Coords = List[Tuple[int, int]]\n",
    "\n",
    "\n",
    "def similar_triangles(coords_1: Coords, coords_2: Coords) -> bool:\n",
    "\n",
    "    tr_1 = sorted([(((coords_1[i][0]-coords_1[i-1][0]) ** 2 + (coords_1[i]\n",
    "                  [1] - coords_1[i-1][1]) ** 2)) ** 0.5 for i in range(3)])\n",
    "    tr_2 = sorted([(((coords_2[i][0]-coords_2[i-1][0]) ** 2 + (coords_2[i]\n",
    "                  [1] - coords_2[i-1][1]) ** 2)) ** 0.5 for i in range(3)])\n",
    "\n",
    "    # your code here\n",
    "    if len({tr_2[i]/tr_1[i] for i in range(3)}) == 1:\n",
    "        return True\n",
    "    return False"
   ]
  },
  {
   "cell_type": "code",
   "execution_count": 2,
   "id": "07a55651",
   "metadata": {},
   "outputs": [
    {
     "data": {
      "text/plain": [
       "True"
      ]
     },
     "execution_count": 2,
     "metadata": {},
     "output_type": "execute_result"
    }
   ],
   "source": [
    "all([similar_triangles([(0, 0), (1, 2), (2, 0)], [(3, 0), (4, 2), (5, 0)]) is True,\n",
    "similar_triangles([(0, 0), (1, 2), (2, 0)], [(3, 0), (4, 3), (5, 0)]) is False,\n",
    "similar_triangles([(1, 0), (1, 2), (2, 0)], [(3, 0), (5, 4), (5, 0)]) is True])"
   ]
  },
  {
   "cell_type": "markdown",
   "id": "08b4d31a",
   "metadata": {},
   "source": [
    "# Can You Pass?\n",
    "\n",
    "\n",
    "Дана матрица с цифрами и координаты (строка и столбец) двух клеток с одинаковым значением. \n",
    "\n",
    "Вы можете перемещаться между соседними клетками с одинаковыми значениями по вертикали и горизонтали. \n",
    "\n",
    "Определите есть ли путь между двумя заданными клетками.\n",
    "\n",
    "Матрица представлена, как массив массивов с цифрами. \n",
    "\n",
    "Координаты представлены, как два числа: строка и столбец.\n",
    "\n",
    "Результат проверяется, как булево значение. \n",
    "\n",
    "Есть путь существует - True, иначе - False.\n",
    "\n",
    "<img src='https://d17mnqrx9pmt3e.cloudfront.net/media/missions/media/c8d77120f3cb4374888fb221840087e8/can-jump-through.svg'>\n",
    "\n",
    "Входные данные: Три аргумента. Матрица, как кортеж (tuple) кортежей с целыми числами. \n",
    "\n",
    "Координаты двух клеток, как кортежи с двумя целыми числами в каждом.\n",
    "\n",
    "Выходные данные: Существование пути между данными клетками, как булево значение (bool).\n",
    "\n"
   ]
  },
  {
   "cell_type": "code",
   "execution_count": 4,
   "id": "d18476bd",
   "metadata": {},
   "outputs": [],
   "source": [
    "def can_pass(matrix, first, second):\n",
    "    return True or False\n"
   ]
  },
  {
   "cell_type": "code",
   "execution_count": 5,
   "id": "f763b8d7",
   "metadata": {},
   "outputs": [
    {
     "data": {
      "text/plain": [
       "False"
      ]
     },
     "execution_count": 5,
     "metadata": {},
     "output_type": "execute_result"
    }
   ],
   "source": [
    "all([can_pass(((0, 0, 0, 0, 0, 0),\n",
    "          (0, 2, 2, 2, 3, 2),\n",
    "          (0, 2, 0, 0, 0, 2),\n",
    "          (0, 2, 0, 2, 0, 2),\n",
    "          (0, 2, 2, 2, 0, 2),\n",
    "          (0, 0, 0, 0, 0, 2),\n",
    "          (2, 2, 2, 2, 2, 2),),\n",
    "         (3, 2), (0, 5)) == True,\n",
    "can_pass(((0, 0, 0, 0, 0, 0),\n",
    "          (0, 2, 2, 2, 3, 2),\n",
    "          (0, 2, 0, 0, 0, 2),\n",
    "          (0, 2, 0, 2, 0, 2),\n",
    "          (0, 2, 2, 2, 0, 2),\n",
    "          (0, 0, 0, 0, 0, 2),\n",
    "          (2, 2, 2, 2, 2, 2),),\n",
    "         (3, 3), (6, 0)) == False,])"
   ]
  },
  {
   "cell_type": "markdown",
   "id": "e18cd718",
   "metadata": {},
   "source": [
    "## Unix Match. Part 1\n",
    "\n",
    "Бывают ситуации, когда среди огромного количества файлов на вашем компьютере или в отдельной папке вам необходимо найти файлы определенного типа - например, изображения с расширением '.jpg' или документы с расширением '.txt' или файлы, в названии которых есть слово 'butterfly'. Делая это вручную можно потратить слишком много времени. Именно для облегчения подобных задач служит матчинг или паттерны для поиска файлов по определенной маске.\n",
    "Эта миссия поможет вам разобраться с тем, как это работает.\n",
    "\n",
    "Ваша задача - определить, соответствует ли заданное имя файла заданному поисковому паттерну.\n",
    "\n",
    "Вот небольшая таблица, которая показывает, какие символы могут использовать в паттернах.\n",
    "\n",
    " '*'\tсоответствует всему (любому количеству любых символов)\n",
    " \n",
    " '?'\tсоответствует любому одному символу\n"
   ]
  },
  {
   "cell_type": "code",
   "execution_count": 86,
   "id": "a6655a47",
   "metadata": {},
   "outputs": [],
   "source": [
    "import re\n",
    "def unix_match(filename: str, pattern: str) -> bool:\n",
    "    return re.match(pattern.replace(\".\", '\\.').replace(\"*\", '.*').replace(\"?\", '.{1}'), filename) is not None\n",
    "\n"
   ]
  },
  {
   "cell_type": "code",
   "execution_count": 85,
   "id": "7e93705b",
   "metadata": {},
   "outputs": [
    {
     "ename": "error",
     "evalue": "multiple repeat at position 6",
     "output_type": "error",
     "traceback": [
      "\u001b[1;31m---------------------------------------------------------------------------\u001b[0m",
      "\u001b[1;31merror\u001b[0m                                     Traceback (most recent call last)",
      "\u001b[1;32m<ipython-input-85-3fb0087a9f6c>\u001b[0m in \u001b[0;36m<module>\u001b[1;34m\u001b[0m\n\u001b[0;32m      4\u001b[0m \u001b[0munix_match\u001b[0m\u001b[1;33m(\u001b[0m\u001b[1;34m'log1.txt'\u001b[0m\u001b[1;33m,\u001b[0m \u001b[1;34m'log?.txt'\u001b[0m\u001b[1;33m)\u001b[0m \u001b[1;33m==\u001b[0m \u001b[1;32mTrue\u001b[0m\u001b[1;33m\u001b[0m\u001b[1;33m\u001b[0m\u001b[0m\n\u001b[0;32m      5\u001b[0m \u001b[0munix_match\u001b[0m\u001b[1;33m(\u001b[0m\u001b[1;34m'log12.txt'\u001b[0m\u001b[1;33m,\u001b[0m \u001b[1;34m'log?.txt'\u001b[0m\u001b[1;33m)\u001b[0m \u001b[1;33m==\u001b[0m \u001b[1;32mFalse\u001b[0m\u001b[1;33m\u001b[0m\u001b[1;33m\u001b[0m\u001b[0m\n\u001b[1;32m----> 6\u001b[1;33m \u001b[0munix_match\u001b[0m\u001b[1;33m(\u001b[0m\u001b[1;34m'log12.txt'\u001b[0m\u001b[1;33m,\u001b[0m \u001b[1;34m'log??.txt'\u001b[0m\u001b[1;33m)\u001b[0m \u001b[1;33m==\u001b[0m \u001b[1;32mTrue\u001b[0m\u001b[1;33m\u001b[0m\u001b[1;33m\u001b[0m\u001b[0m\n\u001b[0m",
      "\u001b[1;32m<ipython-input-84-f9d2dfb1e7df>\u001b[0m in \u001b[0;36munix_match\u001b[1;34m(filename, pattern)\u001b[0m\n\u001b[0;32m      1\u001b[0m \u001b[1;32mdef\u001b[0m \u001b[0munix_match\u001b[0m\u001b[1;33m(\u001b[0m\u001b[0mfilename\u001b[0m\u001b[1;33m:\u001b[0m \u001b[0mstr\u001b[0m\u001b[1;33m,\u001b[0m \u001b[0mpattern\u001b[0m\u001b[1;33m:\u001b[0m \u001b[0mstr\u001b[0m\u001b[1;33m)\u001b[0m \u001b[1;33m->\u001b[0m \u001b[0mbool\u001b[0m\u001b[1;33m:\u001b[0m\u001b[1;33m\u001b[0m\u001b[1;33m\u001b[0m\u001b[0m\n\u001b[1;32m----> 2\u001b[1;33m     \u001b[1;32mreturn\u001b[0m \u001b[1;32mTrue\u001b[0m \u001b[1;32mif\u001b[0m \u001b[0mre\u001b[0m\u001b[1;33m.\u001b[0m\u001b[0mmatch\u001b[0m\u001b[1;33m(\u001b[0m\u001b[0mpattern\u001b[0m\u001b[1;33m.\u001b[0m\u001b[0mreplace\u001b[0m\u001b[1;33m(\u001b[0m\u001b[1;34m'?'\u001b[0m\u001b[1;33m,\u001b[0m \u001b[1;34m'{1}'\u001b[0m\u001b[1;33m)\u001b[0m\u001b[1;33m.\u001b[0m\u001b[0mreplace\u001b[0m\u001b[1;33m(\u001b[0m\u001b[1;34m'.'\u001b[0m\u001b[1;33m,\u001b[0m \u001b[1;34m'\\.'\u001b[0m\u001b[1;33m)\u001b[0m\u001b[1;33m.\u001b[0m\u001b[0mreplace\u001b[0m\u001b[1;33m(\u001b[0m\u001b[1;34m'*'\u001b[0m\u001b[1;33m,\u001b[0m \u001b[1;34m'/*'\u001b[0m\u001b[1;33m)\u001b[0m\u001b[1;33m,\u001b[0m \u001b[0mfilename\u001b[0m\u001b[1;33m)\u001b[0m \u001b[1;32mis\u001b[0m \u001b[1;32mnot\u001b[0m \u001b[1;32mNone\u001b[0m \u001b[1;32melse\u001b[0m \u001b[1;32mFalse\u001b[0m\u001b[1;33m\u001b[0m\u001b[1;33m\u001b[0m\u001b[0m\n\u001b[0m\u001b[0;32m      3\u001b[0m \u001b[1;33m\u001b[0m\u001b[0m\n",
      "\u001b[1;32m~\\anaconda3\\lib\\re.py\u001b[0m in \u001b[0;36mmatch\u001b[1;34m(pattern, string, flags)\u001b[0m\n\u001b[0;32m    189\u001b[0m     \"\"\"Try to apply the pattern at the start of the string, returning\n\u001b[0;32m    190\u001b[0m     a Match object, or None if no match was found.\"\"\"\n\u001b[1;32m--> 191\u001b[1;33m     \u001b[1;32mreturn\u001b[0m \u001b[0m_compile\u001b[0m\u001b[1;33m(\u001b[0m\u001b[0mpattern\u001b[0m\u001b[1;33m,\u001b[0m \u001b[0mflags\u001b[0m\u001b[1;33m)\u001b[0m\u001b[1;33m.\u001b[0m\u001b[0mmatch\u001b[0m\u001b[1;33m(\u001b[0m\u001b[0mstring\u001b[0m\u001b[1;33m)\u001b[0m\u001b[1;33m\u001b[0m\u001b[1;33m\u001b[0m\u001b[0m\n\u001b[0m\u001b[0;32m    192\u001b[0m \u001b[1;33m\u001b[0m\u001b[0m\n\u001b[0;32m    193\u001b[0m \u001b[1;32mdef\u001b[0m \u001b[0mfullmatch\u001b[0m\u001b[1;33m(\u001b[0m\u001b[0mpattern\u001b[0m\u001b[1;33m,\u001b[0m \u001b[0mstring\u001b[0m\u001b[1;33m,\u001b[0m \u001b[0mflags\u001b[0m\u001b[1;33m=\u001b[0m\u001b[1;36m0\u001b[0m\u001b[1;33m)\u001b[0m\u001b[1;33m:\u001b[0m\u001b[1;33m\u001b[0m\u001b[1;33m\u001b[0m\u001b[0m\n",
      "\u001b[1;32m~\\anaconda3\\lib\\re.py\u001b[0m in \u001b[0;36m_compile\u001b[1;34m(pattern, flags)\u001b[0m\n\u001b[0;32m    302\u001b[0m     \u001b[1;32mif\u001b[0m \u001b[1;32mnot\u001b[0m \u001b[0msre_compile\u001b[0m\u001b[1;33m.\u001b[0m\u001b[0misstring\u001b[0m\u001b[1;33m(\u001b[0m\u001b[0mpattern\u001b[0m\u001b[1;33m)\u001b[0m\u001b[1;33m:\u001b[0m\u001b[1;33m\u001b[0m\u001b[1;33m\u001b[0m\u001b[0m\n\u001b[0;32m    303\u001b[0m         \u001b[1;32mraise\u001b[0m \u001b[0mTypeError\u001b[0m\u001b[1;33m(\u001b[0m\u001b[1;34m\"first argument must be string or compiled pattern\"\u001b[0m\u001b[1;33m)\u001b[0m\u001b[1;33m\u001b[0m\u001b[1;33m\u001b[0m\u001b[0m\n\u001b[1;32m--> 304\u001b[1;33m     \u001b[0mp\u001b[0m \u001b[1;33m=\u001b[0m \u001b[0msre_compile\u001b[0m\u001b[1;33m.\u001b[0m\u001b[0mcompile\u001b[0m\u001b[1;33m(\u001b[0m\u001b[0mpattern\u001b[0m\u001b[1;33m,\u001b[0m \u001b[0mflags\u001b[0m\u001b[1;33m)\u001b[0m\u001b[1;33m\u001b[0m\u001b[1;33m\u001b[0m\u001b[0m\n\u001b[0m\u001b[0;32m    305\u001b[0m     \u001b[1;32mif\u001b[0m \u001b[1;32mnot\u001b[0m \u001b[1;33m(\u001b[0m\u001b[0mflags\u001b[0m \u001b[1;33m&\u001b[0m \u001b[0mDEBUG\u001b[0m\u001b[1;33m)\u001b[0m\u001b[1;33m:\u001b[0m\u001b[1;33m\u001b[0m\u001b[1;33m\u001b[0m\u001b[0m\n\u001b[0;32m    306\u001b[0m         \u001b[1;32mif\u001b[0m \u001b[0mlen\u001b[0m\u001b[1;33m(\u001b[0m\u001b[0m_cache\u001b[0m\u001b[1;33m)\u001b[0m \u001b[1;33m>=\u001b[0m \u001b[0m_MAXCACHE\u001b[0m\u001b[1;33m:\u001b[0m\u001b[1;33m\u001b[0m\u001b[1;33m\u001b[0m\u001b[0m\n",
      "\u001b[1;32m~\\anaconda3\\lib\\sre_compile.py\u001b[0m in \u001b[0;36mcompile\u001b[1;34m(p, flags)\u001b[0m\n\u001b[0;32m    762\u001b[0m     \u001b[1;32mif\u001b[0m \u001b[0misstring\u001b[0m\u001b[1;33m(\u001b[0m\u001b[0mp\u001b[0m\u001b[1;33m)\u001b[0m\u001b[1;33m:\u001b[0m\u001b[1;33m\u001b[0m\u001b[1;33m\u001b[0m\u001b[0m\n\u001b[0;32m    763\u001b[0m         \u001b[0mpattern\u001b[0m \u001b[1;33m=\u001b[0m \u001b[0mp\u001b[0m\u001b[1;33m\u001b[0m\u001b[1;33m\u001b[0m\u001b[0m\n\u001b[1;32m--> 764\u001b[1;33m         \u001b[0mp\u001b[0m \u001b[1;33m=\u001b[0m \u001b[0msre_parse\u001b[0m\u001b[1;33m.\u001b[0m\u001b[0mparse\u001b[0m\u001b[1;33m(\u001b[0m\u001b[0mp\u001b[0m\u001b[1;33m,\u001b[0m \u001b[0mflags\u001b[0m\u001b[1;33m)\u001b[0m\u001b[1;33m\u001b[0m\u001b[1;33m\u001b[0m\u001b[0m\n\u001b[0m\u001b[0;32m    765\u001b[0m     \u001b[1;32melse\u001b[0m\u001b[1;33m:\u001b[0m\u001b[1;33m\u001b[0m\u001b[1;33m\u001b[0m\u001b[0m\n\u001b[0;32m    766\u001b[0m         \u001b[0mpattern\u001b[0m \u001b[1;33m=\u001b[0m \u001b[1;32mNone\u001b[0m\u001b[1;33m\u001b[0m\u001b[1;33m\u001b[0m\u001b[0m\n",
      "\u001b[1;32m~\\anaconda3\\lib\\sre_parse.py\u001b[0m in \u001b[0;36mparse\u001b[1;34m(str, flags, state)\u001b[0m\n\u001b[0;32m    946\u001b[0m \u001b[1;33m\u001b[0m\u001b[0m\n\u001b[0;32m    947\u001b[0m     \u001b[1;32mtry\u001b[0m\u001b[1;33m:\u001b[0m\u001b[1;33m\u001b[0m\u001b[1;33m\u001b[0m\u001b[0m\n\u001b[1;32m--> 948\u001b[1;33m         \u001b[0mp\u001b[0m \u001b[1;33m=\u001b[0m \u001b[0m_parse_sub\u001b[0m\u001b[1;33m(\u001b[0m\u001b[0msource\u001b[0m\u001b[1;33m,\u001b[0m \u001b[0mstate\u001b[0m\u001b[1;33m,\u001b[0m \u001b[0mflags\u001b[0m \u001b[1;33m&\u001b[0m \u001b[0mSRE_FLAG_VERBOSE\u001b[0m\u001b[1;33m,\u001b[0m \u001b[1;36m0\u001b[0m\u001b[1;33m)\u001b[0m\u001b[1;33m\u001b[0m\u001b[1;33m\u001b[0m\u001b[0m\n\u001b[0m\u001b[0;32m    949\u001b[0m     \u001b[1;32mexcept\u001b[0m \u001b[0mVerbose\u001b[0m\u001b[1;33m:\u001b[0m\u001b[1;33m\u001b[0m\u001b[1;33m\u001b[0m\u001b[0m\n\u001b[0;32m    950\u001b[0m         \u001b[1;31m# the VERBOSE flag was switched on inside the pattern.  to be\u001b[0m\u001b[1;33m\u001b[0m\u001b[1;33m\u001b[0m\u001b[1;33m\u001b[0m\u001b[0m\n",
      "\u001b[1;32m~\\anaconda3\\lib\\sre_parse.py\u001b[0m in \u001b[0;36m_parse_sub\u001b[1;34m(source, state, verbose, nested)\u001b[0m\n\u001b[0;32m    441\u001b[0m     \u001b[0mstart\u001b[0m \u001b[1;33m=\u001b[0m \u001b[0msource\u001b[0m\u001b[1;33m.\u001b[0m\u001b[0mtell\u001b[0m\u001b[1;33m(\u001b[0m\u001b[1;33m)\u001b[0m\u001b[1;33m\u001b[0m\u001b[1;33m\u001b[0m\u001b[0m\n\u001b[0;32m    442\u001b[0m     \u001b[1;32mwhile\u001b[0m \u001b[1;32mTrue\u001b[0m\u001b[1;33m:\u001b[0m\u001b[1;33m\u001b[0m\u001b[1;33m\u001b[0m\u001b[0m\n\u001b[1;32m--> 443\u001b[1;33m         itemsappend(_parse(source, state, verbose, nested + 1,\n\u001b[0m\u001b[0;32m    444\u001b[0m                            not nested and not items))\n\u001b[0;32m    445\u001b[0m         \u001b[1;32mif\u001b[0m \u001b[1;32mnot\u001b[0m \u001b[0msourcematch\u001b[0m\u001b[1;33m(\u001b[0m\u001b[1;34m\"|\"\u001b[0m\u001b[1;33m)\u001b[0m\u001b[1;33m:\u001b[0m\u001b[1;33m\u001b[0m\u001b[1;33m\u001b[0m\u001b[0m\n",
      "\u001b[1;32m~\\anaconda3\\lib\\sre_parse.py\u001b[0m in \u001b[0;36m_parse\u001b[1;34m(source, state, verbose, nested, first)\u001b[0m\n\u001b[0;32m    669\u001b[0m                                    source.tell() - here + len(this))\n\u001b[0;32m    670\u001b[0m             \u001b[1;32mif\u001b[0m \u001b[0mitem\u001b[0m\u001b[1;33m[\u001b[0m\u001b[1;36m0\u001b[0m\u001b[1;33m]\u001b[0m\u001b[1;33m[\u001b[0m\u001b[1;36m0\u001b[0m\u001b[1;33m]\u001b[0m \u001b[1;32min\u001b[0m \u001b[0m_REPEATCODES\u001b[0m\u001b[1;33m:\u001b[0m\u001b[1;33m\u001b[0m\u001b[1;33m\u001b[0m\u001b[0m\n\u001b[1;32m--> 671\u001b[1;33m                 raise source.error(\"multiple repeat\",\n\u001b[0m\u001b[0;32m    672\u001b[0m                                    source.tell() - here + len(this))\n\u001b[0;32m    673\u001b[0m             \u001b[1;32mif\u001b[0m \u001b[0mitem\u001b[0m\u001b[1;33m[\u001b[0m\u001b[1;36m0\u001b[0m\u001b[1;33m]\u001b[0m\u001b[1;33m[\u001b[0m\u001b[1;36m0\u001b[0m\u001b[1;33m]\u001b[0m \u001b[1;32mis\u001b[0m \u001b[0mSUBPATTERN\u001b[0m\u001b[1;33m:\u001b[0m\u001b[1;33m\u001b[0m\u001b[1;33m\u001b[0m\u001b[0m\n",
      "\u001b[1;31merror\u001b[0m: multiple repeat at position 6"
     ]
    }
   ],
   "source": [
    "unix_match('somefile.txt', '*') == True\n",
    "unix_match('other.exe', '*') == True\n",
    "unix_match('my.exe', '*.txt') == False\n",
    "unix_match('log1.txt', 'log?.txt') == True\n",
    "unix_match('log12.txt', 'log?.txt') == False\n",
    "unix_match('log12.txt', 'log??.txt') == True"
   ]
  },
  {
   "cell_type": "code",
   "execution_count": null,
   "id": "14f44492",
   "metadata": {},
   "outputs": [],
   "source": []
  }
 ],
 "metadata": {
  "kernelspec": {
   "display_name": "Python 3 (ipykernel)",
   "language": "python",
   "name": "python3"
  },
  "language_info": {
   "codemirror_mode": {
    "name": "ipython",
    "version": 3
   },
   "file_extension": ".py",
   "mimetype": "text/x-python",
   "name": "python",
   "nbconvert_exporter": "python",
   "pygments_lexer": "ipython3",
   "version": "3.9.13"
  }
 },
 "nbformat": 4,
 "nbformat_minor": 5
}
