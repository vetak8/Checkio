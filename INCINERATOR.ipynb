{
 "cells": [
  {
   "cell_type": "markdown",
   "id": "849e463d",
   "metadata": {},
   "source": [
    "\n",
    "## The Warriors"
   ]
  },
  {
   "cell_type": "markdown",
   "id": "db65a5e0",
   "metadata": {},
   "source": [
    "В этой миссии вам необходимо будет создать класс Warrior, у экземпляров которого будет 2 параметра — health (здоровье, равное 50) и attack (атака, равная 5), а также свойство is_alive, которое может быть True (если здоровье воина > 0) или False (в ином случае). \n",
    "\n",
    "Кроме этого вам необходимо создать класс для второго типа солдат — Knight, который будет наследником Warrior, но с увеличенной атакой — 7. \n",
    "\n",
    "Также вам необходимо будет создать функцию fight(), которая будет проводить дуэли между 2 воинами и определять сильнейшего из них. Бои происходят по следующему принципу:\n",
    "\n",
    "\n",
    "• каждый ход первый воин наносит второму урон в размере своей атаки, вследствие чего здоровье второго воина уменьшается\n",
    "• аналогично и второй воин, если он еще жив, поступает по отношению к первому.\n",
    "Битва заканчивается смертью одного из них. Если первый воин все еще жив (а второй, соответственно, уже нет), функция возвращает True, или в ином случае False."
   ]
  },
  {
   "cell_type": "code",
   "execution_count": 77,
   "id": "c5c68caf",
   "metadata": {},
   "outputs": [
    {
     "name": "stdout",
     "output_type": "stream",
     "text": [
      "Coding complete? Let's try tests!\n"
     ]
    }
   ],
   "source": [
    "class Warrior:\n",
    "    def __init__(self):\n",
    "        self.health = 50\n",
    "        self.attack = 5\n",
    "        self.is_alive = True\n",
    "    def take_damage(self, attack):\n",
    "        self.health = self.health - attack\n",
    "        if self.health <= 0:\n",
    "            self.is_alive = False\n",
    "        \n",
    "class Knight(Warrior):\n",
    "    def __init__(self):\n",
    "        super().__init__()\n",
    "        self.attack = 7\n",
    "       \n",
    "    \n",
    "def fight(warior_1, warior_2):\n",
    "    while warior_1.is_alive and warior_2.is_alive:\n",
    "        warior_2.take_damage(warior_1.attack)\n",
    "        if not warior_2.is_alive:\n",
    "            return True\n",
    "        warior_1.take_damage(warior_2.attack)\n",
    "        if not warior_1.is_alive:\n",
    "            return False\n",
    "        \n",
    "    \n",
    "\n",
    "\n",
    "if __name__ == \"__main__\":\n",
    "    # These \"asserts\" using only for self-checking and not necessary for auto-testing\n",
    "\n",
    "    chuck = Warrior()\n",
    "    bruce = Warrior()\n",
    "    carl = Knight()\n",
    "    dave = Warrior()\n",
    "    mark = Warrior()\n",
    "\n",
    "    assert fight(chuck, bruce) == True\n",
    "    assert fight(dave, carl) == False\n",
    "    assert chuck.is_alive == True\n",
    "    assert bruce.is_alive == False\n",
    "    assert carl.is_alive == True\n",
    "    assert dave.is_alive == False\n",
    "    assert fight(carl, mark) == False\n",
    "    assert carl.is_alive == False\n",
    "\n",
    "    print(\"Coding complete? Let's try tests!\")\n"
   ]
  },
  {
   "cell_type": "code",
   "execution_count": 72,
   "id": "be6c72a6",
   "metadata": {},
   "outputs": [],
   "source": [
    "warior = Warior()\n",
    "knight = Knight()"
   ]
  },
  {
   "cell_type": "code",
   "execution_count": null,
   "id": "44e95442",
   "metadata": {},
   "outputs": [],
   "source": [
    "\n",
    "        "
   ]
  },
  {
   "cell_type": "code",
   "execution_count": 73,
   "id": "57e2d030",
   "metadata": {},
   "outputs": [
    {
     "data": {
      "text/plain": [
       "False"
      ]
     },
     "execution_count": 73,
     "metadata": {},
     "output_type": "execute_result"
    }
   ],
   "source": [
    "fight(warior, knight)"
   ]
  },
  {
   "cell_type": "code",
   "execution_count": null,
   "id": "5c0d7d48",
   "metadata": {},
   "outputs": [],
   "source": []
  }
 ],
 "metadata": {
  "kernelspec": {
   "display_name": "Python 3 (ipykernel)",
   "language": "python",
   "name": "python3"
  },
  "language_info": {
   "codemirror_mode": {
    "name": "ipython",
    "version": 3
   },
   "file_extension": ".py",
   "mimetype": "text/x-python",
   "name": "python",
   "nbconvert_exporter": "python",
   "pygments_lexer": "ipython3",
   "version": "3.9.13"
  }
 },
 "nbformat": 4,
 "nbformat_minor": 5
}
